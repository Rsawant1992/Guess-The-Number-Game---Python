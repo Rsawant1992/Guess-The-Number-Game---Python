{
 "cells": [
  {
   "cell_type": "markdown",
   "id": "d8967ce6",
   "metadata": {},
   "source": [
    "# Guess the Number Game - Python Project\n",
    "- Guess the secret number in the magician's hat. \n",
    "- If your guess is too high or too low, you'll get a hint.\n",
    "- How to play: Guess the magician's number and enter it.\n"
   ]
  },
  {
   "cell_type": "code",
   "execution_count": 13,
   "id": "25b50d5f",
   "metadata": {},
   "outputs": [],
   "source": [
    "# Guess the secret number in the magician's hat. If your guess is too high or too low, you'll get a hint.\n",
    "# How to play: Guess the magician's number and enter it.\n",
    "def guess_the_number():\n",
    "    import random\n",
    "    \n",
    "    try:\n",
    "        guess = int(input('Pick a number between 1 and 10. You will have 5 turns: '))\n",
    "        secret_number = randrange(1,10)\n",
    "        count = 0\n",
    "        turns = 5\n",
    "        while turns <6:\n",
    "            count += 1\n",
    "\n",
    "            if guess != secret_number:\n",
    "                print('Your guess is wrong.Try again',turns, 'turns left')\n",
    "                if guess < secret_number:\n",
    "                    print('Hint:',guess,'is too LOW')\n",
    "                    guess = int(input('Guess number again: '))\n",
    "                if guess > secret_number:\n",
    "                    print('Hint:',guess,'is too HIGH')\n",
    "                    guess = int(input('Guess number again: '))\n",
    "            else:\n",
    "                print(f'Great! It took you {count} turns to guess my number which is {secret_number}')\n",
    "                break\n",
    "            turns -= 1\n",
    "    except:\n",
    "        print('Please enter valid Guess: Numbers between 1 and 10')"
   ]
  },
  {
   "cell_type": "code",
   "execution_count": 16,
   "id": "b685d928",
   "metadata": {},
   "outputs": [
    {
     "name": "stdout",
     "output_type": "stream",
     "text": [
      "Pick a number between 1 and 10. You will have 5 turns: -10\n",
      "Your guess is wrong.Try again 5 turns left\n",
      "Hint: -10 is too LOW\n",
      "Guess number again: a\n",
      "Please enter valid Guess: Numbers between 1 and 10\n"
     ]
    }
   ],
   "source": [
    "guess_the_number()"
   ]
  },
  {
   "cell_type": "code",
   "execution_count": null,
   "id": "b31bad09",
   "metadata": {},
   "outputs": [],
   "source": []
  }
 ],
 "metadata": {
  "kernelspec": {
   "display_name": "Python 3 (ipykernel)",
   "language": "python",
   "name": "python3"
  },
  "language_info": {
   "codemirror_mode": {
    "name": "ipython",
    "version": 3
   },
   "file_extension": ".py",
   "mimetype": "text/x-python",
   "name": "python",
   "nbconvert_exporter": "python",
   "pygments_lexer": "ipython3",
   "version": "3.9.7"
  }
 },
 "nbformat": 4,
 "nbformat_minor": 5
}
